{
  "nbformat": 4,
  "nbformat_minor": 0,
  "metadata": {
    "colab": {
      "provenance": [],
      "toc_visible": true,
      "authorship_tag": "ABX9TyM/Kf92UejfKL50p1u/fh6a",
      "include_colab_link": true
    },
    "kernelspec": {
      "name": "python3",
      "display_name": "Python 3"
    },
    "language_info": {
      "name": "python"
    }
  },
  "cells": [
    {
      "cell_type": "markdown",
      "metadata": {
        "id": "view-in-github",
        "colab_type": "text"
      },
      "source": [
        "<a href=\"https://colab.research.google.com/github/docladuyquang/bai-tap-6/blob/main/Copy_of_bai_tap_6.ipynb\" target=\"_parent\"><img src=\"https://colab.research.google.com/assets/colab-badge.svg\" alt=\"Open In Colab\"/></a>"
      ]
    },
    {
      "cell_type": "markdown",
      "source": [
        "# TUPLE"
      ],
      "metadata": {
        "id": "eiLs_jQd4e3D"
      }
    },
    {
      "cell_type": "code",
      "source": [
        "#1\n",
        "number = (\"0\", \"5\",\"10\",\"0\")\n",
        "print(number[1])"
      ],
      "metadata": {
        "colab": {
          "base_uri": "https://localhost:8080/"
        },
        "id": "yotxnH0s4iUj",
        "outputId": "baef54f6-dd53-4290-cdb9-2ab1a425cdd8"
      },
      "execution_count": null,
      "outputs": [
        {
          "output_type": "stream",
          "name": "stdout",
          "text": [
            "5\n"
          ]
        }
      ]
    },
    {
      "cell_type": "code",
      "source": [
        "#2\n",
        "(easy,medium,*hard) = number\n",
        "print(easy)\n",
        "print(medium)\n",
        "print(hard)"
      ],
      "metadata": {
        "colab": {
          "base_uri": "https://localhost:8080/"
        },
        "id": "2yUxZWog8N1l",
        "outputId": "e3f7c567-a758-48d7-e42d-05d4824c2436"
      },
      "execution_count": null,
      "outputs": [
        {
          "output_type": "stream",
          "name": "stdout",
          "text": [
            "0\n",
            "5\n",
            "['10', '0']\n"
          ]
        }
      ]
    },
    {
      "cell_type": "code",
      "source": [
        "#3\n",
        "new_number = (\"15\")\n",
        "number = number + (new_number,)\n",
        "print(number)"
      ],
      "metadata": {
        "colab": {
          "base_uri": "https://localhost:8080/"
        },
        "id": "0NBMaVgk81qV",
        "outputId": "4b8baac0-9bd6-46b6-e33f-5f1bf9d36cdd"
      },
      "execution_count": null,
      "outputs": [
        {
          "output_type": "stream",
          "name": "stdout",
          "text": [
            "('0', '5', '10', '0', '15')\n"
          ]
        }
      ]
    },
    {
      "cell_type": "code",
      "source": [
        "#4\n",
        "index = number.index(\"5\")\n",
        "print(index)"
      ],
      "metadata": {
        "colab": {
          "base_uri": "https://localhost:8080/"
        },
        "id": "KwplQelc-Q4v",
        "outputId": "a515da42-322d-4f0b-9286-1b50dbd0c039"
      },
      "execution_count": null,
      "outputs": [
        {
          "output_type": "stream",
          "name": "stdout",
          "text": [
            "1\n"
          ]
        }
      ]
    },
    {
      "cell_type": "code",
      "source": [
        "#5\n",
        "count = number.count(\"0\")\n",
        "print(count)"
      ],
      "metadata": {
        "colab": {
          "base_uri": "https://localhost:8080/"
        },
        "id": "glEoj4bj-ib_",
        "outputId": "7f2a8949-dbd3-4ca4-d7aa-a1dc8e4f088c"
      },
      "execution_count": null,
      "outputs": [
        {
          "output_type": "stream",
          "name": "stdout",
          "text": [
            "2\n"
          ]
        }
      ]
    },
    {
      "cell_type": "markdown",
      "source": [
        "# SET"
      ],
      "metadata": {
        "id": "-TzCPrcX-99q"
      }
    },
    {
      "cell_type": "code",
      "source": [
        "#1\n",
        "num = {50, 15, 67, 34, 22, 120, -1}\n",
        "print(f\"Giá trị lớn nhất: {max(num)}\")\n",
        "print(f\"Giá trị bé nhất: {min(num)}\")\n"
      ],
      "metadata": {
        "id": "k1ZxqFkq_Bah",
        "colab": {
          "base_uri": "https://localhost:8080/"
        },
        "outputId": "33a91899-f3fe-4127-911b-1064c67e44c5"
      },
      "execution_count": null,
      "outputs": [
        {
          "output_type": "stream",
          "name": "stdout",
          "text": [
            "Giá trị lớn nhất: 120\n",
            "Giá trị bé nhất: -1\n"
          ]
        }
      ]
    },
    {
      "cell_type": "code",
      "source": [
        "#2\n",
        "print(f\"Set: {num}\")\n",
        "search_value = \"57\"\n",
        "if search_value in num:\n",
        "    print(f\"'{search_value}' có trong tập hợp num\")\n",
        "else:\n",
        "    print(f\"'{search_value}' không có trong tập hợp num\")\n"
      ],
      "metadata": {
        "colab": {
          "base_uri": "https://localhost:8080/"
        },
        "id": "f1pmAlDFIyTP",
        "outputId": "b11272dd-24c5-44f1-e4e6-d3cd74d25e0e"
      },
      "execution_count": null,
      "outputs": [
        {
          "output_type": "stream",
          "name": "stdout",
          "text": [
            "Set: {34, 67, 50, 22, 120, -1, 15}\n",
            "'57' không có trong tập hợp num\n"
          ]
        }
      ]
    },
    {
      "cell_type": "code",
      "source": [
        "#3\n",
        "set1 = {1, 2, 3, 4}\n",
        "set2 = {5, 6, 7, 8}\n",
        "set3 = {4, 5, 6}\n",
        "\n",
        "if set1.isdisjoint(set2):\n",
        "    print(\"Set1 và Set2 không có phần tử chung\")\n",
        "else:\n",
        "    print(\"Set1 và Set2 có phần tử chung\")\n",
        "\n",
        "if set1.isdisjoint(set3):\n",
        "    print(\"Set1 và Set3 không có phần tử chung\")\n",
        "else:\n",
        "    print(\"Set1 và Set3 có phần tử chung\")"
      ],
      "metadata": {
        "colab": {
          "base_uri": "https://localhost:8080/"
        },
        "id": "1aOk7_3dIyRA",
        "outputId": "24ee9cc3-7f7c-41b0-b1b8-4561e617215b"
      },
      "execution_count": null,
      "outputs": [
        {
          "output_type": "stream",
          "name": "stdout",
          "text": [
            "Set1 và Set2 không có phần tử chung\n",
            "Set1 và Set3 có phần tử chung\n"
          ]
        }
      ]
    },
    {
      "cell_type": "code",
      "source": [
        "#4\n",
        "fruit = [\"apple\", \"banana\", \"apple\", \"orange\", \"apple\", \"grapes\", \"banana\", \"lemon\"]\n",
        "unique_words = set(fruit)\n",
        "print(f\"Unique words: {unique_words}\")\n",
        "\n",
        "word_frequency = {}\n",
        "for word in fruit:\n",
        "    if word in word_frequency:\n",
        "        word_frequency[word] += 1\n",
        "    else:\n",
        "        word_frequency[word] = 1\n",
        "\n",
        "print(\"Word frequencies:\")\n",
        "for word, count in word_frequency.items():\n",
        "    print(f\"  {word}: {count}\")"
      ],
      "metadata": {
        "colab": {
          "base_uri": "https://localhost:8080/"
        },
        "id": "rAdEPH6sIyJI",
        "outputId": "58492dfc-ec82-4da9-9dd2-7660236bf41d"
      },
      "execution_count": null,
      "outputs": [
        {
          "output_type": "stream",
          "name": "stdout",
          "text": [
            "Unique words: {'apple', 'orange', 'grapes', 'banana', 'lemon'}\n",
            "Word frequencies:\n",
            "  apple: 3\n",
            "  banana: 2\n",
            "  orange: 1\n",
            "  grapes: 1\n",
            "  lemon: 1\n"
          ]
        }
      ]
    },
    {
      "cell_type": "code",
      "source": [
        "#5\n",
        "set_a = {1, 2, 3, 4, 5, 6, 7, 8, 9}\n",
        "set_b = {2, 4, 6, 8, 10, 12}\n",
        "\n",
        "missing_in_b = set_a - set_b\n",
        "print(f\"Các phần tử trong A nhưng không có trong B: {missing_in_b}\")\n",
        "\n",
        "missing_in_a = set_b - set_a\n",
        "print(f\"Các phần tử trong B nhưng không có trong A: {missing_in_a}\")"
      ],
      "metadata": {
        "colab": {
          "base_uri": "https://localhost:8080/"
        },
        "id": "_7ye-nLaIx4B",
        "outputId": "6bd043fc-546c-4d0c-93c3-aed7ff50739c"
      },
      "execution_count": null,
      "outputs": [
        {
          "output_type": "stream",
          "name": "stdout",
          "text": [
            "Các phần tử trong A nhưng không có trong B: {1, 3, 5, 7, 9}\n",
            "Các phần tử trong B nhưng không có trong A: {10, 12}\n"
          ]
        }
      ]
    },
    {
      "cell_type": "markdown",
      "source": [
        "# DICT"
      ],
      "metadata": {
        "id": "RNeryrFMKB-C"
      }
    },
    {
      "cell_type": "code",
      "source": [
        "#1\n",
        "animals = ['dog', 'cat', 'chicken']\n",
        "fruit = ['banana', 'pinenaple', 'pearl']\n",
        "result_dict = dict(zip(animals, fruit))\n",
        "print(f\"Animals: {animals}\")\n",
        "print(f\"Fruit: {fruit}\")\n",
        "print(f\"Dictionary: {result_dict}\")"
      ],
      "metadata": {
        "colab": {
          "base_uri": "https://localhost:8080/"
        },
        "id": "0_Boo6yqU2w-",
        "outputId": "fb9bab97-7323-4ee9-eb51-4bec7f7166b8"
      },
      "execution_count": null,
      "outputs": [
        {
          "output_type": "stream",
          "name": "stdout",
          "text": [
            "Animals: ['dog', 'cat', 'chicken']\n",
            "Fruit: ['banana', 'pinenaple', 'pearl']\n",
            "Dictionary: {'dog': 'banana', 'cat': 'pinenaple', 'chicken': 'pearl'}\n"
          ]
        }
      ]
    },
    {
      "cell_type": "code",
      "source": [
        "#2\n",
        "dict1 = {'a': 1, 'b': 2, 'c': 3}\n",
        "dict2 = {'d': 4, 'e': 5, 'b': 6}\n",
        "\n",
        "merged_dict1 = dict1.copy()\n",
        "merged_dict1.update(dict2)\n",
        "print(\"dict3 :\", merged_dict1)"
      ],
      "metadata": {
        "colab": {
          "base_uri": "https://localhost:8080/"
        },
        "id": "v9j0Wp8iU3Gm",
        "outputId": "fd7c2476-cc0c-4740-93d9-ccf7bfa61020"
      },
      "execution_count": 12,
      "outputs": [
        {
          "output_type": "stream",
          "name": "stdout",
          "text": [
            "dict3 : {'a': 1, 'b': 6, 'c': 3, 'd': 4, 'e': 5}\n"
          ]
        }
      ]
    },
    {
      "cell_type": "code",
      "source": [
        "#3\n",
        "a_dict = {\n",
        "    'class': {\n",
        "        'student': {\n",
        "            'name': 'Mike',\n",
        "            'marks': {\n",
        "                'physics': 70,\n",
        "                'history': 80\n",
        "            }\n",
        "        }\n",
        "    }\n",
        "}\n",
        "print(\"Sample dictionary:\", a_dict)\n"
      ],
      "metadata": {
        "id": "A3TaOxFjU3T9",
        "colab": {
          "base_uri": "https://localhost:8080/"
        },
        "outputId": "64bd359d-d736-4879-e3ee-f5d88981f2d7"
      },
      "execution_count": 13,
      "outputs": [
        {
          "output_type": "stream",
          "name": "stdout",
          "text": [
            "Sample dictionary: {'class': {'student': {'name': 'Mike', 'marks': {'physics': 70, 'history': 80}}}}\n"
          ]
        }
      ]
    },
    {
      "cell_type": "code",
      "source": [
        "#4\n",
        "word = ['quang', 'quan', 'qua', 'qu', 'q']\n",
        "default_value = \"Not Provided\"\n",
        "result = dict.fromkeys(word, default_value)\n",
        "print(\"Dictionary with default values:\", result)"
      ],
      "metadata": {
        "id": "pvv4uRo1U3gt",
        "colab": {
          "base_uri": "https://localhost:8080/"
        },
        "outputId": "221366a7-7e4c-4c39-b276-b85f81be8c1e"
      },
      "execution_count": 18,
      "outputs": [
        {
          "output_type": "stream",
          "name": "stdout",
          "text": [
            "Dictionary with default values: {'quang': 'Not Provided', 'quan': 'Not Provided', 'qua': 'Not Provided', 'qu': 'Not Provided', 'q': 'Not Provided'}\n"
          ]
        }
      ]
    },
    {
      "cell_type": "code",
      "source": [
        "#5\n",
        "a_dict = {\n",
        "    'name': 'duy quang',\n",
        "    'age': 20,\n",
        "    'gmail': 'duyq30976@gmail.com',\n",
        "    'address': 'Lam Dong'\n",
        "  }\n",
        "print(\"Original dictionary:\", a_dict)\n",
        "keys_to_extract = ['name', 'gmail']\n",
        "extracted_dict = {k: a_dict[k] for k in keys_to_extract if k in a_dict}\n",
        "print(\"Extracted dictionary:\", extracted_dict)"
      ],
      "metadata": {
        "id": "Q0sGMg_uU3ql",
        "colab": {
          "base_uri": "https://localhost:8080/"
        },
        "outputId": "d0b863fd-c596-4714-9494-081d44b90108"
      },
      "execution_count": 35,
      "outputs": [
        {
          "output_type": "stream",
          "name": "stdout",
          "text": [
            "Original dictionary: {'name': 'duy quang', 'age': 20, 'gmail': 'duyq30976@gmail.com', 'address': 'Lam Dong'}\n",
            "Extracted dictionary: {'name': 'duy quang', 'gmail': 'duyq30976@gmail.com'}\n"
          ]
        }
      ]
    },
    {
      "cell_type": "code",
      "source": [
        "#6\n",
        "a_dict = {\n",
        "   'name': 'duy quang',\n",
        "    'age': 20,\n",
        "    'gmail': 'duyq30976@gmail.com',\n",
        "    'address': 'Lam Dong'\n",
        "}\n",
        "print(\"Original dictionary:\", a_dict)\n",
        "\n",
        "keys_to_delete = ['gmail','address']\n",
        "\n",
        "result_dict = a_dict.copy()\n",
        "for key in keys_to_delete:\n",
        "    if key in result_dict:\n",
        "        del result_dict[key]\n",
        "\n",
        "print(\"Dictionary after deleting keys:\", result_dict)\n"
      ],
      "metadata": {
        "colab": {
          "base_uri": "https://localhost:8080/"
        },
        "id": "tG5iFTQn7xsN",
        "outputId": "35359030-2273-41ff-a7dc-989f4bd1182f"
      },
      "execution_count": 36,
      "outputs": [
        {
          "output_type": "stream",
          "name": "stdout",
          "text": [
            "Original dictionary: {'name': 'duy quang', 'age': 20, 'gmail': 'duyq30976@gmail.com', 'address': 'Lam Dong'}\n",
            "Dictionary after deleting keys: {'name': 'duy quang', 'age': 20}\n"
          ]
        }
      ]
    },
    {
      "cell_type": "code",
      "source": [
        "#7\n",
        "sample_dict = {\n",
        "    'name': 'John Doe',\n",
        "    'age': 30,\n",
        "    'city': 'New York',\n",
        "    'email': 'john@example.com'\n",
        "}\n",
        "print(\"Dictionary:\", sample_dict)\n",
        "\n",
        "# Values to check\n",
        "values_to_check = ['John Doe', 'Chicago', 30]\n",
        "\n",
        "for value in values_to_check:\n",
        "    if value in sample_dict.values():\n",
        "        print(f\"Value '{value}' exists in the dictionary\")\n",
        "    else:\n",
        "        print(f\"Value '{value}' does not exist in the dictionary\")"
      ],
      "metadata": {
        "colab": {
          "base_uri": "https://localhost:8080/"
        },
        "id": "Iq2CbL0R7x4W",
        "outputId": "97064a34-8a9b-4363-e2bb-38360f70c8a3"
      },
      "execution_count": 37,
      "outputs": [
        {
          "output_type": "stream",
          "name": "stdout",
          "text": [
            "Dictionary: {'name': 'John Doe', 'age': 30, 'city': 'New York', 'email': 'john@example.com'}\n",
            "Value 'John Doe' exists in the dictionary\n",
            "Value 'Chicago' does not exist in the dictionary\n",
            "Value '30' exists in the dictionary\n"
          ]
        }
      ]
    },
    {
      "cell_type": "code",
      "source": [
        "#8\n",
        "sample_dict = {\n",
        "    'name': 'John Doe',\n",
        "    'age': 30,\n",
        "    'city': 'New York',\n",
        "    'email': 'john@example.com'\n",
        "}\n",
        "print(\"Original dictionary:\", sample_dict)\n",
        "\n",
        "# Renaming 'city' to 'location'\n",
        "if 'city' in sample_dict:\n",
        "    sample_dict['location'] = sample_dict.pop('city')\n",
        "\n",
        "print(\"Dictionary after renaming key:\", sample_dict)"
      ],
      "metadata": {
        "colab": {
          "base_uri": "https://localhost:8080/"
        },
        "id": "Zc-i3YKu7yBT",
        "outputId": "bdb3eb1b-3b6b-4ddc-d44c-06c8900114ca"
      },
      "execution_count": 40,
      "outputs": [
        {
          "output_type": "stream",
          "name": "stdout",
          "text": [
            "Original dictionary: {'name': 'John Doe', 'age': 30, 'city': 'New York', 'email': 'john@example.com'}\n",
            "Dictionary after renaming key: {'name': 'John Doe', 'age': 30, 'email': 'john@example.com', 'location': 'New York'}\n"
          ]
        }
      ]
    },
    {
      "cell_type": "code",
      "source": [
        "#9\n",
        "sample_dict = {\n",
        "    'Physics': 82,\n",
        "    'Math': 65,\n",
        "    'History': 75,\n",
        "    'English': 68,\n",
        "    'Chemistry': 90,\n",
        "    'Biology': 72\n",
        "}\n",
        "print(\"Dictionary:\", sample_dict)\n",
        "\n",
        "\n",
        "min_key = min(sample_dict, key=sample_dict.get)\n",
        "min_value = sample_dict[min_key]\n",
        "\n",
        "print(f\"Key with minimum value: '{min_key}' with value {min_value}\")"
      ],
      "metadata": {
        "colab": {
          "base_uri": "https://localhost:8080/"
        },
        "id": "fyYJsLed7yLj",
        "outputId": "f9657c18-1f73-412e-9525-c54dcfa675d4"
      },
      "execution_count": 39,
      "outputs": [
        {
          "output_type": "stream",
          "name": "stdout",
          "text": [
            "Dictionary: {'Physics': 82, 'Math': 65, 'History': 75, 'English': 68, 'Chemistry': 90, 'Biology': 72}\n",
            "Key with minimum value: 'Math' with value 65\n"
          ]
        }
      ]
    },
    {
      "cell_type": "code",
      "source": [
        "#10\n",
        "nested_dict = {\n",
        "    'user': {\n",
        "        'profile': {\n",
        "            'personal': {\n",
        "                'name': 'John Doe',\n",
        "                'age': 30\n",
        "            },\n",
        "            'professional': {\n",
        "                'job': 'Developer',\n",
        "                'experience': '5 years'\n",
        "            }\n",
        "        }\n",
        "    }\n",
        "}\n",
        "print(\"Original nested dictionary:\", nested_dict)\n",
        "\n",
        "nested_dict['user']['profile']['professional']['job'] = 'Senior Developer'\n",
        "\n",
        "print(\"Nested dictionary after changing value:\", nested_dict)\n"
      ],
      "metadata": {
        "colab": {
          "base_uri": "https://localhost:8080/"
        },
        "id": "aWN_eTV77yVr",
        "outputId": "44ebe70e-ef73-474f-cd01-89771c31f7fe"
      },
      "execution_count": 46,
      "outputs": [
        {
          "output_type": "stream",
          "name": "stdout",
          "text": [
            "Original nested dictionary: {'user': {'profile': {'personal': {'name': 'John Doe', 'age': 30}, 'professional': {'job': 'Developer', 'experience': '5 years'}}}}\n",
            "Nested dictionary after changing value: {'user': {'profile': {'personal': {'name': 'John Doe', 'age': 30}, 'professional': {'job': 'Senior Developer', 'experience': '5 years'}}}}\n"
          ]
        }
      ]
    },
    {
      "cell_type": "code",
      "source": [
        "#11\n",
        "text = \"Python is an interpreted, high-level, general-purpose programming language. Its design philosophy emphasizes code readability with its use of significant whitespace.\"\n",
        "print(\"Text paragraph:\", text)\n",
        "\n",
        "char_count = {}\n",
        "for char in text:\n",
        "    if char in char_count:\n",
        "        char_count[char] += 1\n",
        "    else:\n",
        "        char_count[char] = 1\n",
        "\n",
        "print(\"Character frequency (first 10 items):\")\n",
        "for char, count in list(sorted(char_count.items()))[:10]:\n",
        "    print(f\"'{char}': {count}\")\n"
      ],
      "metadata": {
        "colab": {
          "base_uri": "https://localhost:8080/"
        },
        "id": "gJzB4PY87yk2",
        "outputId": "780dbe9f-12c7-4782-8ec3-82478eb9f7bf"
      },
      "execution_count": 47,
      "outputs": [
        {
          "output_type": "stream",
          "name": "stdout",
          "text": [
            "Text paragraph: Python is an interpreted, high-level, general-purpose programming language. Its design philosophy emphasizes code readability with its use of significant whitespace.\n",
            "Character frequency (first 10 items):\n",
            "' ': 19\n",
            "',': 2\n",
            "'-': 2\n",
            "'.': 2\n",
            "'I': 1\n",
            "'P': 1\n",
            "'a': 10\n",
            "'b': 1\n",
            "'c': 3\n",
            "'d': 4\n"
          ]
        }
      ]
    },
    {
      "cell_type": "code",
      "source": [
        "#12\n",
        "def is_prime(n):\n",
        "    \"\"\"Check if a number is prime\"\"\"\n",
        "    if n <= 1:\n",
        "        return False\n",
        "    if n <= 3:\n",
        "        return True\n",
        "    if n % 2 == 0 or n % 3 == 0:\n",
        "        return False\n",
        "    i = 5\n",
        "    while i * i <= n:\n",
        "        if n % i == 0 or n % (i + 2) == 0:\n",
        "            return False\n",
        "        i += 6\n",
        "    return True\n",
        "\n",
        "def prime_numbers_dict(n):\n",
        "    \"\"\"Create dictionary with keys starting from 1 and values as prime numbers less than n\"\"\"\n",
        "    result = {}\n",
        "    key = 1\n",
        "    for num in range(2, n):\n",
        "        if is_prime(num):\n",
        "            result[key] = num\n",
        "            key += 1\n",
        "    return result\n",
        "\n",
        "N = 50\n",
        "prime_dict = prime_numbers_dict(N)\n",
        "print(f\"Dictionary of prime numbers less than {N}:\")\n",
        "print(prime_dict)"
      ],
      "metadata": {
        "colab": {
          "base_uri": "https://localhost:8080/"
        },
        "id": "fv_MA95772Zf",
        "outputId": "67b46b2b-422d-40f6-ea26-6fa4cbb10dd9"
      },
      "execution_count": 48,
      "outputs": [
        {
          "output_type": "stream",
          "name": "stdout",
          "text": [
            "Dictionary of prime numbers less than 50:\n",
            "{1: 2, 2: 3, 3: 5, 4: 7, 5: 11, 6: 13, 7: 17, 8: 19, 9: 23, 10: 29, 11: 31, 12: 37, 13: 41, 14: 43, 15: 47}\n"
          ]
        }
      ]
    },
    {
      "cell_type": "markdown",
      "source": [
        "# Restructuring the company data"
      ],
      "metadata": {
        "id": "wF5cUupfk6vn"
      }
    },
    {
      "cell_type": "code",
      "source": [
        "employees = {\n",
        "    'emp1': {'name': 'John', 'department': 'HR', 'salary': 50000},\n",
        "    'emp2': {'name': 'Jane', 'department': 'IT', 'salary': 60000},\n",
        "    'emp3': {'name': 'Bob', 'department': 'IT', 'salary': 55000},\n",
        "    'emp4': {'name': 'Alice', 'department': 'HR', 'salary': 65000},\n",
        "    'emp5': {'name': 'Mike', 'department': 'Finance', 'salary': 70000},\n",
        "    'emp6': {'name': 'Sarah', 'department': 'Finance', 'salary': 62000},\n",
        "    'emp7': {'name': 'Tom', 'department': 'IT', 'salary': 58000}\n",
        "}\n",
        "print(\"Original employee dictionary:\")\n",
        "for emp_id, details in employees.items():\n",
        "    print(f\"{emp_id}: {details}\")\n",
        "\n",
        "dept_employees = {}\n",
        "for emp_id, emp_data in employees.items():\n",
        "    department = emp_data['department']\n",
        "    name = emp_data['name']\n",
        "    salary = emp_data['salary']\n",
        "\n",
        "    if department not in dept_employees:\n",
        "        dept_employees[department] = {}\n",
        "\n",
        "    dept_employees[department][name] = salary\n",
        "\n",
        "print(\"\\nRestructured dictionary by department:\")\n",
        "for dept, emp_data in dept_employees.items():\n",
        "    print(f\"{dept}: {emp_data}\")"
      ],
      "metadata": {
        "colab": {
          "base_uri": "https://localhost:8080/"
        },
        "id": "opcdoAG7cTiH",
        "outputId": "e051c7e4-05f8-4f8f-f605-a29a67ea45f8"
      },
      "execution_count": 50,
      "outputs": [
        {
          "output_type": "stream",
          "name": "stdout",
          "text": [
            "Original employee dictionary:\n",
            "emp1: {'name': 'John', 'department': 'HR', 'salary': 50000}\n",
            "emp2: {'name': 'Jane', 'department': 'IT', 'salary': 60000}\n",
            "emp3: {'name': 'Bob', 'department': 'IT', 'salary': 55000}\n",
            "emp4: {'name': 'Alice', 'department': 'HR', 'salary': 65000}\n",
            "emp5: {'name': 'Mike', 'department': 'Finance', 'salary': 70000}\n",
            "emp6: {'name': 'Sarah', 'department': 'Finance', 'salary': 62000}\n",
            "emp7: {'name': 'Tom', 'department': 'IT', 'salary': 58000}\n",
            "\n",
            "Restructured dictionary by department:\n",
            "HR: {'John': 50000, 'Alice': 65000}\n",
            "IT: {'Jane': 60000, 'Bob': 55000, 'Tom': 58000}\n",
            "Finance: {'Mike': 70000, 'Sarah': 62000}\n"
          ]
        }
      ]
    }
  ]
}